{
 "cells": [
  {
   "cell_type": "markdown",
   "id": "0f253baf-4f46-4079-9c2e-d01f8cc69129",
   "metadata": {},
   "source": [
    "# Lab3: Sequential Neural Networks"
   ]
  },
  {
   "cell_type": "code",
   "execution_count": null,
   "id": "e4e7ef17-b004-418d-bea3-fa723d1d887a",
   "metadata": {
    "tags": []
   },
   "outputs": [],
   "source": [
    "import os\n",
    "# disable tensorflow printing messages to the standard output\n",
    "# 3 = INFO, WARNING, and ERROR messages are NOT printed\n",
    "os.environ['TF_CPP_MIN_LOG_LEVEL'] = \"3\"\n",
    "\n",
    "import keras\n",
    "import pandas as pd\n",
    "import sklearn\n",
    "import sklearn.datasets\n",
    "import sklearn.model_selection"
   ]
  },
  {
   "cell_type": "code",
   "execution_count": null,
   "id": "789de289-bad1-4199-b222-1dcdcd6022ec",
   "metadata": {
    "tags": []
   },
   "outputs": [],
   "source": [
    "df = pd.read_csv(\"iris.csv\")"
   ]
  },
  {
   "cell_type": "code",
   "execution_count": null,
   "id": "ee881acc-7186-4716-973b-5d9f609b92e6",
   "metadata": {
    "tags": []
   },
   "outputs": [],
   "source": [
    "df.head()"
   ]
  },
  {
   "cell_type": "code",
   "execution_count": null,
   "id": "425b5244-b364-402f-a3c3-1eb697f996a2",
   "metadata": {
    "tags": []
   },
   "outputs": [],
   "source": [
    "df.shape"
   ]
  },
  {
   "cell_type": "code",
   "execution_count": null,
   "id": "f3718c44-a29c-4a06-bcf2-7aa8851b21e5",
   "metadata": {
    "tags": []
   },
   "outputs": [],
   "source": [
    "df.info()"
   ]
  },
  {
   "cell_type": "code",
   "execution_count": null,
   "id": "bd7a9843-5987-4ecf-963a-9bcfdafead23",
   "metadata": {
    "tags": []
   },
   "outputs": [],
   "source": [
    "df.describe()"
   ]
  },
  {
   "cell_type": "code",
   "execution_count": null,
   "id": "8b8e5529-f65c-4e0d-b876-afd4ea7c4af5",
   "metadata": {},
   "outputs": [],
   "source": [
    "iris = sklearn.datasets.load_iris()"
   ]
  },
  {
   "cell_type": "code",
   "execution_count": null,
   "id": "2891f1da-2cac-45e7-865d-a932682abeff",
   "metadata": {},
   "outputs": [],
   "source": [
    "type(iris)"
   ]
  },
  {
   "cell_type": "markdown",
   "id": "a489f5d3-0f4a-4038-a84e-93206fab208b",
   "metadata": {},
   "source": [
    "#### For more info of 'Bunch', see the scikit-learn [documentation](https://scikit-learn.org/stable/modules/generated/sklearn.utils.Bunch.html)"
   ]
  },
  {
   "cell_type": "code",
   "execution_count": null,
   "id": "54a5d2f8-bbdc-4fae-987f-4fcb0c102d0f",
   "metadata": {},
   "outputs": [],
   "source": [
    "iris.keys()"
   ]
  },
  {
   "cell_type": "code",
   "execution_count": null,
   "id": "7f9f22bb-b1f5-41a6-a425-bda6490d8798",
   "metadata": {},
   "outputs": [],
   "source": [
    "iris.values()"
   ]
  },
  {
   "cell_type": "code",
   "execution_count": null,
   "id": "8566920b-e4b6-4763-9116-3b0760d40d4e",
   "metadata": {},
   "outputs": [],
   "source": [
    "features = iris['data']"
   ]
  },
  {
   "cell_type": "code",
   "execution_count": null,
   "id": "723cbba0-133e-4b36-9026-0f91c5af5b0b",
   "metadata": {},
   "outputs": [],
   "source": [
    "type(features)"
   ]
  },
  {
   "cell_type": "code",
   "execution_count": null,
   "id": "3b193663-76db-40dd-bb54-918f885f1142",
   "metadata": {},
   "outputs": [],
   "source": [
    "target = iris['target']"
   ]
  },
  {
   "cell_type": "code",
   "execution_count": null,
   "id": "5525c509-0907-4bcb-abc9-47c780d2a88d",
   "metadata": {},
   "outputs": [],
   "source": [
    "type(target)"
   ]
  },
  {
   "cell_type": "code",
   "execution_count": null,
   "id": "ceb33e91-cd8e-4e12-94c3-4820bfb4ec67",
   "metadata": {},
   "outputs": [],
   "source": [
    "for flower in iris['target_names']:\n",
    "    print(flower)"
   ]
  },
  {
   "cell_type": "markdown",
   "id": "eec15dcb-fd8e-45ef-8826-22d6320738c9",
   "metadata": {},
   "source": [
    "#### Another way to print out the flower names is with a list comprehension.\n",
    "\n",
    "`target_names = [flower for flower in iris['target_names']] # create a list of flower names`\n",
    "\n",
    "`print(target_names)`"
   ]
  },
  {
   "cell_type": "code",
   "execution_count": null,
   "id": "49502fe6-ed94-483d-b931-5187b2fc1e31",
   "metadata": {},
   "outputs": [],
   "source": [
    "target"
   ]
  },
  {
   "cell_type": "code",
   "execution_count": null,
   "id": "b16d8cfd-fe70-4880-91e3-b2b65275eb47",
   "metadata": {},
   "outputs": [],
   "source": [
    "print([feature for feature in iris['feature_names']])\n",
    "# for feature in iris['feature_names']:\n",
    "#     print(feature)"
   ]
  },
  {
   "cell_type": "code",
   "execution_count": null,
   "id": "66dfa6e6-44e7-4781-9a9f-8cd7584a5cad",
   "metadata": {},
   "outputs": [],
   "source": [
    "features[:3]"
   ]
  },
  {
   "cell_type": "code",
   "execution_count": null,
   "id": "929dc80a-587c-4106-ba4b-34b3e29b260a",
   "metadata": {},
   "outputs": [],
   "source": [
    "features[0].shape"
   ]
  },
  {
   "cell_type": "code",
   "execution_count": null,
   "id": "fd686c80-9ac5-400c-8cf5-d2a4105c4525",
   "metadata": {},
   "outputs": [],
   "source": [
    "features_train, features_test, target_train, target_test = sklearn.model_selection.train_test_split(\n",
    "    features, target, test_size=0.2, random_state=42\n",
    ")"
   ]
  },
  {
   "cell_type": "code",
   "execution_count": null,
   "id": "10f76a4f-58d5-4e5f-b8d0-45ea2cd4ff65",
   "metadata": {},
   "outputs": [],
   "source": [
    "number_classes = 3\n",
    "target_train = keras.utils.to_categorical(target_train, number_classes)\n",
    "target_test = keras.utils.to_categorical(target_test, number_classes)"
   ]
  },
  {
   "cell_type": "code",
   "execution_count": null,
   "id": "5b349b34-f72e-47ba-a8d0-0445503617e0",
   "metadata": {},
   "outputs": [],
   "source": [
    "model = keras.Sequential([\n",
    "    keras.layers.Dense(64, activation=\"relu\", input_shape=(4,)),\n",
    "    keras.layers.Dense(64, activation=\"relu\"),\n",
    "    keras.layers.Dropout(0.2),\n",
    "    keras.layers.Dense(3, activation=\"softmax\")\n",
    "])"
   ]
  },
  {
   "cell_type": "code",
   "execution_count": null,
   "id": "a9f6db7c-1f20-4131-b37d-349a9c8475a3",
   "metadata": {},
   "outputs": [],
   "source": [
    "model.compile(\n",
    "    loss=\"categorical_crossentropy\", optimizer=\"adam\", metrics=[\"accuracy\"])"
   ]
  },
  {
   "cell_type": "code",
   "execution_count": null,
   "id": "542658c5-32fe-4298-ac1a-dca253d03bb2",
   "metadata": {
    "scrolled": true
   },
   "outputs": [],
   "source": [
    "model.fit(features_train, target_train,\n",
    "          batch_size=64, epochs=32,\n",
    "          verbose=1)"
   ]
  },
  {
   "cell_type": "code",
   "execution_count": null,
   "id": "ecf611d0-b24f-4d47-9208-807b22ab2ca0",
   "metadata": {
    "scrolled": true
   },
   "outputs": [],
   "source": [
    "loss, accuracy = model.evaluate(features_test, target_test)\n",
    "print(f\"Test loss: {loss}\")\n",
    "print(f\"Test accuracy: {accuracy}\")"
   ]
  },
  {
   "cell_type": "markdown",
   "id": "551d5e6a-c8b9-4d27-bb77-d01eabe6844b",
   "metadata": {},
   "source": [
    "### All students, answer the following:\n",
    "\n",
    "#### 1. What is the importance of a feature for machine learning?\n",
    "\n",
    "#### 2. How many unique features are present in the Iris dataset? Justify your answer.\n",
    "\n",
    "#### 3. How many neurons are in the input layer? Justify your answer.\n",
    "\n",
    "#### 4. What is an epoch?"
   ]
  },
  {
   "cell_type": "markdown",
   "id": "3ffc263d-c51b-4a84-88c9-200d7eab5695",
   "metadata": {},
   "source": [
    "### Graduate students only:\n",
    "\n",
    "#### 5. Why doesn't the class appear in `df.describe()`?\n",
    "\n",
    "#### 6. What other datasets does scikit-learn support with their `datasets` module? How do you know?\n",
    "\n",
    "#### 7. Review the loss and accuracy of the model.\n",
    "- If the accuracy is not 100%, how could you improve the accuracy of the model?\n",
    "- Why should or shouldn't you strive for 100% accuracy and near zero loss?\n",
    "\n",
    "#### 8. In the call to compile the model, what does \"adam\" stand for in the optimizer argument? Justify your answer.\n"
   ]
  }
 ],
 "metadata": {
  "kernelspec": {
   "display_name": "seq-nn:Python",
   "language": "python",
   "name": "conda-env-seq-nn-py"
  },
  "language_info": {
   "codemirror_mode": {
    "name": "ipython",
    "version": 3
   },
   "file_extension": ".py",
   "mimetype": "text/x-python",
   "name": "python",
   "nbconvert_exporter": "python",
   "pygments_lexer": "ipython3",
   "version": "3.11.5"
  }
 },
 "nbformat": 4,
 "nbformat_minor": 5
}
